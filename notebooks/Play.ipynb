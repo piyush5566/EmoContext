{
 "cells": [
  {
   "cell_type": "code",
   "execution_count": 1,
   "metadata": {},
   "outputs": [],
   "source": [
    "import sys\n",
    "sys.path.append(\"../\")\n",
    "sys.path.append(\"../models\")"
   ]
  },
  {
   "cell_type": "code",
   "execution_count": 2,
   "metadata": {},
   "outputs": [
    {
     "name": "stderr",
     "output_type": "stream",
     "text": [
      "Using TensorFlow backend.\n"
     ]
    },
    {
     "ename": "RuntimeError",
     "evalue": "module compiled against API version 0xc but this version of numpy is 0xb",
     "output_type": "error",
     "traceback": [
      "\u001b[0;31m---------------------------------------------------------------------------\u001b[0m",
      "\u001b[0;31mRuntimeError\u001b[0m                              Traceback (most recent call last)",
      "\u001b[0;31mRuntimeError\u001b[0m: module compiled against API version 0xc but this version of numpy is 0xb"
     ]
    },
    {
     "ename": "RuntimeError",
     "evalue": "module compiled against API version 0xc but this version of numpy is 0xb",
     "output_type": "error",
     "traceback": [
      "\u001b[0;31m---------------------------------------------------------------------------\u001b[0m",
      "\u001b[0;31mRuntimeError\u001b[0m                              Traceback (most recent call last)",
      "\u001b[0;31mRuntimeError\u001b[0m: module compiled against API version 0xc but this version of numpy is 0xb"
     ]
    },
    {
     "name": "stderr",
     "output_type": "stream",
     "text": [
      "/usr/local/lib/python2.7/dist-packages/sklearn/cross_validation.py:41: DeprecationWarning: This module was deprecated in version 0.18 in favor of the model_selection module into which all the refactored classes and functions are moved. Also note that the interface of the new CV iterators are different from that of this module. This module will be removed in 0.20.\n",
      "  \"This module will be removed in 0.20.\", DeprecationWarning)\n"
     ]
    }
   ],
   "source": [
    "from utills import *\n",
    "from deepmoji_dense_simple import get_model_2\n",
    "from sklearn.cross_validation import train_test_split"
   ]
  },
  {
   "cell_type": "code",
   "execution_count": 3,
   "metadata": {},
   "outputs": [
    {
     "name": "stdout",
     "output_type": "stream",
     "text": [
      "Starting to load features vectors from x_test and y_test\n"
     ]
    }
   ],
   "source": [
    "x,y = read_saved_features_vectors_file('x_test','y_test')"
   ]
  },
  {
   "cell_type": "code",
   "execution_count": 4,
   "metadata": {},
   "outputs": [],
   "source": [
    "x_train, x_test, y_train, y_test = train_test_split(x, y, test_size=0.33, random_state=42)\n",
    "class_weights = get_class_weight(y)"
   ]
  },
  {
   "cell_type": "code",
   "execution_count": 5,
   "metadata": {},
   "outputs": [
    {
     "name": "stdout",
     "output_type": "stream",
     "text": [
      "WARNING:tensorflow:From /usr/local/lib/python2.7/dist-packages/keras/backend/tensorflow_backend.py:1238: calling reduce_sum (from tensorflow.python.ops.math_ops) with keep_dims is deprecated and will be removed in a future version.\n",
      "Instructions for updating:\n",
      "keep_dims is deprecated, use keepdims instead\n",
      "WARNING:tensorflow:From /usr/local/lib/python2.7/dist-packages/keras/backend/tensorflow_backend.py:1340: calling reduce_mean (from tensorflow.python.ops.math_ops) with keep_dims is deprecated and will be removed in a future version.\n",
      "Instructions for updating:\n",
      "keep_dims is deprecated, use keepdims instead\n",
      "_________________________________________________________________\n",
      "Layer (type)                 Output Shape              Param #   \n",
      "=================================================================\n",
      "input_1 (InputLayer)         (None, 6912)              0         \n",
      "_________________________________________________________________\n",
      "dense_1 (Dense)              (None, 3951)              27313263  \n",
      "_________________________________________________________________\n",
      "dropout_1 (Dropout)          (None, 3951)              0         \n",
      "_________________________________________________________________\n",
      "dense_2 (Dense)              (None, 1024)              4046848   \n",
      "_________________________________________________________________\n",
      "dropout_2 (Dropout)          (None, 1024)              0         \n",
      "_________________________________________________________________\n",
      "dense_3 (Dense)              (None, 512)               524800    \n",
      "_________________________________________________________________\n",
      "dropout_3 (Dropout)          (None, 512)               0         \n",
      "_________________________________________________________________\n",
      "dense_4 (Dense)              (None, 64)                32832     \n",
      "_________________________________________________________________\n",
      "dropout_4 (Dropout)          (None, 64)                0         \n",
      "_________________________________________________________________\n",
      "dense_5 (Dense)              (None, 4)                 260       \n",
      "=================================================================\n",
      "Total params: 31,918,003\n",
      "Trainable params: 31,918,003\n",
      "Non-trainable params: 0\n",
      "_________________________________________________________________\n"
     ]
    }
   ],
   "source": [
    "model = get_model_2()\n",
    "model.summary()"
   ]
  },
  {
   "cell_type": "code",
   "execution_count": 6,
   "metadata": {},
   "outputs": [
    {
     "name": "stdout",
     "output_type": "stream",
     "text": [
      "Train on 20207 samples, validate on 9953 samples\n",
      "Epoch 1/10\n",
      "20207/20207 [==============================] - 10s 485us/step - loss: 1.3160 - acc: 0.6219 - val_loss: 1.2757 - val_acc: 0.7370\n",
      "Epoch 2/10\n",
      "20207/20207 [==============================] - 8s 416us/step - loss: 1.0758 - acc: 0.8274 - val_loss: 1.0394 - val_acc: 0.8416\n",
      "Epoch 3/10\n",
      "20207/20207 [==============================] - 8s 419us/step - loss: 0.8961 - acc: 0.8591 - val_loss: 0.9014 - val_acc: 0.8448\n",
      "Epoch 4/10\n",
      "20207/20207 [==============================] - 8s 419us/step - loss: 0.7627 - acc: 0.8755 - val_loss: 0.8240 - val_acc: 0.8390\n",
      "Epoch 5/10\n",
      "20207/20207 [==============================] - 9s 427us/step - loss: 0.6587 - acc: 0.8922 - val_loss: 0.7237 - val_acc: 0.8594\n",
      "Epoch 6/10\n",
      "20207/20207 [==============================] - 8s 420us/step - loss: 0.5830 - acc: 0.9027 - val_loss: 0.7589 - val_acc: 0.8301\n",
      "Epoch 7/10\n",
      "20207/20207 [==============================] - 8s 420us/step - loss: 0.5250 - acc: 0.9123 - val_loss: 0.6731 - val_acc: 0.8505\n",
      "Epoch 8/10\n",
      "20207/20207 [==============================] - 8s 420us/step - loss: 0.4823 - acc: 0.9162 - val_loss: 0.6315 - val_acc: 0.8612\n",
      "Epoch 9/10\n",
      "20207/20207 [==============================] - 8s 418us/step - loss: 0.4442 - acc: 0.9212 - val_loss: 0.6300 - val_acc: 0.8573\n",
      "Epoch 10/10\n",
      "20207/20207 [==============================] - 8s 421us/step - loss: 0.4168 - acc: 0.9250 - val_loss: 0.5834 - val_acc: 0.8624\n"
     ]
    },
    {
     "data": {
      "text/plain": [
       "<keras.callbacks.History at 0x7fb643d69110>"
      ]
     },
     "execution_count": 6,
     "metadata": {},
     "output_type": "execute_result"
    }
   ],
   "source": [
    "model.fit(x_train,\n",
    "          y_train,\n",
    "          validation_data=(np.array(x_test),y_test),\n",
    "          shuffle=True,\n",
    "          batch_size=128,\n",
    "          epochs=10,\n",
    "          class_weight=class_weights)"
   ]
  },
  {
   "cell_type": "code",
   "execution_count": 7,
   "metadata": {
    "scrolled": true
   },
   "outputs": [
    {
     "name": "stdout",
     "output_type": "stream",
     "text": [
      "('True Positives per class : ', array([ 4135.,  1189.,  1626.,  1633.]))\n",
      "('False Positives per class : ', array([ 289.,  412.,  342.,  327.]))\n",
      "('False Negatives per class : ', array([ 792.,  182.,  202.,  194.]))\n",
      "Class happy : Precision : 0.743, Recall : 0.867, F1 : 0.800\n",
      "Class sad : Precision : 0.826, Recall : 0.889, F1 : 0.857\n",
      "Class angry : Precision : 0.833, Recall : 0.894, F1 : 0.862\n",
      "Ignoring the Others class, Macro Precision : 0.8007, Macro Recall : 0.8835, Macro F1 : 0.8401\n",
      "Ignoring the Others class, Micro TP : 4448, FP : 1081, FN : 578\n",
      "Accuracy : 0.8624, Micro Precision : 0.8045, Micro Recall : 0.8850, Micro F1 : 0.8428\n"
     ]
    },
    {
     "data": {
      "text/plain": [
       "(0.86235305937908169,\n",
       " 0.80448544040513659,\n",
       " 0.88499801034619974,\n",
       " 0.84282330648981529)"
      ]
     },
     "execution_count": 7,
     "metadata": {},
     "output_type": "execute_result"
    }
   ],
   "source": [
    "pred = model.predict(np.array(x_test))\n",
    "getMetrics(pred,y_test) "
   ]
  },
  {
   "cell_type": "code",
   "execution_count": 8,
   "metadata": {},
   "outputs": [
    {
     "name": "stdout",
     "output_type": "stream",
     "text": [
      "('True Positives per class : ', array([ 9319.,  2793.,  3546.,  3547.]))\n",
      "('False Positives per class : ', array([ 142.,  355.,  277.,  228.]))\n",
      "('False Negatives per class : ', array([ 702.,   79.,   89.,  132.]))\n",
      "Class happy : Precision : 0.887, Recall : 0.972, F1 : 0.928\n",
      "Class sad : Precision : 0.928, Recall : 0.976, F1 : 0.951\n",
      "Class angry : Precision : 0.940, Recall : 0.964, F1 : 0.952\n",
      "Ignoring the Others class, Macro Precision : 0.9181, Macro Recall : 0.9707, Macro F1 : 0.9437\n",
      "Ignoring the Others class, Micro TP : 9886, FP : 860, FN : 300\n",
      "Accuracy : 0.9504, Micro Precision : 0.9200, Micro Recall : 0.9705, Micro F1 : 0.9446\n"
     ]
    },
    {
     "data": {
      "text/plain": [
       "(0.95041322314049592,\n",
       " 0.9199702214777592,\n",
       " 0.97054781072059693,\n",
       " 0.94458245748136827)"
      ]
     },
     "execution_count": 8,
     "metadata": {},
     "output_type": "execute_result"
    }
   ],
   "source": [
    "pred = model.predict(np.array(x_train))\n",
    "getMetrics(pred,y_train) "
   ]
  },
  {
   "cell_type": "code",
   "execution_count": null,
   "metadata": {},
   "outputs": [],
   "source": []
  }
 ],
 "metadata": {
  "kernelspec": {
   "display_name": "Python 2",
   "language": "python",
   "name": "python2"
  },
  "language_info": {
   "codemirror_mode": {
    "name": "ipython",
    "version": 2
   },
   "file_extension": ".py",
   "mimetype": "text/x-python",
   "name": "python",
   "nbconvert_exporter": "python",
   "pygments_lexer": "ipython2",
   "version": "2.7.12"
  }
 },
 "nbformat": 4,
 "nbformat_minor": 2
}
